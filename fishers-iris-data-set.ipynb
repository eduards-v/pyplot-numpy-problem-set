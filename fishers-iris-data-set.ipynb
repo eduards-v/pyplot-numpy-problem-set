{
 "cells": [
  {
   "cell_type": "markdown",
   "metadata": {},
   "source": [
    "#### Load datasets\n",
    "Use function loadtxt() numpy library to load from csv file. \n",
    "Note that one of the parameters is a string type, so we have to set dtype to str."
   ]
  },
  {
   "cell_type": "code",
   "execution_count": 23,
   "metadata": {
    "scrolled": true
   },
   "outputs": [
    {
     "name": "stdout",
     "output_type": "stream",
     "text": [
      "Species:  ['setosa' 'setosa' 'setosa' 'setosa' 'setosa' 'setosa' 'setosa' 'setosa'\n",
      " 'setosa' 'setosa' 'setosa' 'setosa' 'setosa' 'setosa' 'setosa' 'setosa'\n",
      " 'setosa' 'setosa' 'setosa' 'setosa' 'setosa' 'setosa' 'setosa' 'setosa'\n",
      " 'setosa' 'setosa' 'setosa' 'setosa' 'setosa' 'setosa' 'setosa' 'setosa'\n",
      " 'setosa' 'setosa' 'setosa' 'setosa' 'setosa' 'setosa' 'setosa' 'setosa'\n",
      " 'setosa' 'setosa' 'setosa' 'setosa' 'setosa' 'setosa' 'setosa' 'setosa'\n",
      " 'setosa' 'setosa' 'versicolor' 'versicolor' 'versicolor' 'versicolor'\n",
      " 'versicolor' 'versicolor' 'versicolor' 'versicolor' 'versicolor'\n",
      " 'versicolor' 'versicolor' 'versicolor' 'versicolor' 'versicolor'\n",
      " 'versicolor' 'versicolor' 'versicolor' 'versicolor' 'versicolor'\n",
      " 'versicolor' 'versicolor' 'versicolor' 'versicolor' 'versicolor'\n",
      " 'versicolor' 'versicolor' 'versicolor' 'versicolor' 'versicolor'\n",
      " 'versicolor' 'versicolor' 'versicolor' 'versicolor' 'versicolor'\n",
      " 'versicolor' 'versicolor' 'versicolor' 'versicolor' 'versicolor'\n",
      " 'versicolor' 'versicolor' 'versicolor' 'versicolor' 'versicolor'\n",
      " 'versicolor' 'versicolor' 'versicolor' 'versicolor' 'versicolor'\n",
      " 'versicolor' 'virginica' 'virginica' 'virginica' 'virginica' 'virginica'\n",
      " 'virginica' 'virginica' 'virginica' 'virginica' 'virginica' 'virginica'\n",
      " 'virginica' 'virginica' 'virginica' 'virginica' 'virginica' 'virginica'\n",
      " 'virginica' 'virginica' 'virginica' 'virginica' 'virginica' 'virginica'\n",
      " 'virginica' 'virginica' 'virginica' 'virginica' 'virginica' 'virginica'\n",
      " 'virginica' 'virginica' 'virginica' 'virginica' 'virginica' 'virginica'\n",
      " 'virginica' 'virginica' 'virginica' 'virginica' 'virginica' 'virginica'\n",
      " 'virginica' 'virginica' 'virginica' 'virginica' 'virginica' 'virginica'\n",
      " 'virginica' 'virginica' 'virginica']\n",
      "Petal length ['1.4' '1.4' '1.3' '1.5' '1.4' '1.7' '1.4' '1.5' '1.4' '1.5' '1.5' '1.6'\n",
      " '1.4' '1.1' '1.2' '1.5' '1.3' '1.4' '1.7' '1.5' '1.7' '1.5' '1.0' '1.7'\n",
      " '1.9' '1.6' '1.6' '1.5' '1.4' '1.6' '1.6' '1.5' '1.5' '1.4' '1.5' '1.2'\n",
      " '1.3' '1.5' '1.3' '1.5' '1.3' '1.3' '1.3' '1.6' '1.9' '1.4' '1.6' '1.4'\n",
      " '1.5' '1.4' '4.7' '4.5' '4.9' '4.0' '4.6' '4.5' '4.7' '3.3' '4.6' '3.9'\n",
      " '3.5' '4.2' '4.0' '4.7' '3.6' '4.4' '4.5' '4.1' '4.5' '3.9' '4.8' '4.0'\n",
      " '4.9' '4.7' '4.3' '4.4' '4.8' '5.0' '4.5' '3.5' '3.8' '3.7' '3.9' '5.1'\n",
      " '4.5' '4.5' '4.7' '4.4' '4.1' '4.0' '4.4' '4.6' '4.0' '3.3' '4.2' '4.2'\n",
      " '4.2' '4.3' '3.0' '4.1' '6.0' '5.1' '5.9' '5.6' '5.8' '6.6' '4.5' '6.3'\n",
      " '5.8' '6.1' '5.1' '5.3' '5.5' '5.0' '5.1' '5.3' '5.5' '6.7' '6.9' '5.0'\n",
      " '5.7' '4.9' '6.7' '4.9' '5.7' '6.0' '4.8' '4.9' '5.6' '5.8' '6.1' '6.4'\n",
      " '5.6' '5.1' '5.6' '6.1' '5.6' '5.5' '4.8' '5.4' '5.6' '5.1' '5.1' '5.9'\n",
      " '5.7' '5.2' '5.0' '5.2' '5.4' '5.1']\n"
     ]
    }
   ],
   "source": [
    "import numpy as np\n",
    "\n",
    "data_set = np.loadtxt(\"datasets/IRIS.csv\", dtype = str, delimiter = \",\", unpack = True)#\n",
    "sepal_length, sepal_width, petal_length, petal_width, species = data_set\n",
    "#species = np.loadtxt(\"datasets/IRIS.csv\", usercols = (4,4), delimiter = \",\", unpack = True)\n",
    "print(\"Species: \", species)\n",
    "print(\"Petal length\", petal_length)\n"
   ]
  },
  {
   "cell_type": "code",
   "execution_count": null,
   "metadata": {
    "collapsed": true
   },
   "outputs": [],
   "source": []
  },
  {
   "cell_type": "code",
   "execution_count": null,
   "metadata": {
    "collapsed": true
   },
   "outputs": [],
   "source": []
  },
  {
   "cell_type": "code",
   "execution_count": null,
   "metadata": {
    "collapsed": true
   },
   "outputs": [],
   "source": []
  },
  {
   "cell_type": "code",
   "execution_count": null,
   "metadata": {
    "collapsed": true
   },
   "outputs": [],
   "source": []
  }
 ],
 "metadata": {
  "kernelspec": {
   "display_name": "Python 3",
   "language": "python",
   "name": "python3"
  },
  "language_info": {
   "codemirror_mode": {
    "name": "ipython",
    "version": 3
   },
   "file_extension": ".py",
   "mimetype": "text/x-python",
   "name": "python",
   "nbconvert_exporter": "python",
   "pygments_lexer": "ipython3",
   "version": "3.6.2"
  }
 },
 "nbformat": 4,
 "nbformat_minor": 2
}
