{
 "cells": [
  {
   "cell_type": "markdown",
   "metadata": {},
   "source": [
    "#### About Fisher's Iris data set\n",
    "This dataset tabulates paramateres of different flower species along with species names itself. \n",
    "Overall dataset has 5 parameters.\n",
    "#### Load datasets\n",
    "Use function loadtxt() numpy library to load from csv file. \n",
    "Note that one of the parameters is a string type, so we have to set dtype to str.\n",
    "We will require 5 different lists that store individual property values from the dataset."
   ]
  },
  {
   "cell_type": "code",
   "execution_count": 26,
   "metadata": {
    "scrolled": false
   },
   "outputs": [],
   "source": [
    "import numpy as np\n",
    "\n",
    "data_set = np.loadtxt(\"datasets/IRIS.csv\", dtype = str, delimiter = \",\", unpack = True)#\n",
    "sepal_length, sepal_width, petal_length, petal_width, species = data_set\n",
    "#print(\"Species: \", species)\n",
    "#print(\"Petal length\", petal_length)\n"
   ]
  },
  {
   "cell_type": "markdown",
   "metadata": {},
   "source": [
    "#### Simple data plot \n",
    "Use matplotlib.pyplot module to plot various data plots."
   ]
  },
  {
   "cell_type": "code",
   "execution_count": 35,
   "metadata": {},
   "outputs": [
    {
     "data": {
      "image/png": "[encoded data removed]",
      "text/plain": [
       "<matplotlib.figure.Figure at 0x24a0a73fda0>"
      ]
     },
     "metadata": {},
     "output_type": "display_data"
    }
   ],
   "source": [
    "import matplotlib.pyplot as pl\n",
    "\n",
    "# plots (x,y) \n",
    "pl.scatter(sepal_length, sepal_width, c = \"blue\")\n",
    "pl.xlabel('sepal length')\n",
    "pl.ylabel('sepal width')\n",
    "pl.title('Sepal (length, width) scatter plot')\n",
    "pl.show()"
   ]
  },
  {
   "cell_type": "code",
   "execution_count": null,
   "metadata": {
    "collapsed": true
   },
   "outputs": [],
   "source": []
  },
  {
   "cell_type": "code",
   "execution_count": null,
   "metadata": {
    "collapsed": true
   },
   "outputs": [],
   "source": []
  },
  {
   "cell_type": "code",
   "execution_count": null,
   "metadata": {
    "collapsed": true
   },
   "outputs": [],
   "source": []
  }
 ],
 "metadata": {
  "kernelspec": {
   "display_name": "Python 3",
   "language": "python",
   "name": "python3"
  },
  "language_info": {
   "codemirror_mode": {
    "name": "ipython",
    "version": 3
   },
   "file_extension": ".py",
   "mimetype": "text/x-python",
   "name": "python",
   "nbconvert_exporter": "python",
   "pygments_lexer": "ipython3",
   "version": "3.6.2"
  }
 },
 "nbformat": 4,
 "nbformat_minor": 2
}
